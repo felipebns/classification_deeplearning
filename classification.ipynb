{
 "cells": [
  {
   "cell_type": "markdown",
   "id": "58484f9b",
   "metadata": {},
   "source": [
    "# Classificação - Satisfação de Passageiro em Linhas Aéreas\n",
    "\n",
    "## Autores\n",
    "- Felipe Bakowski Nantes de Souza  \n",
    "- Vinicius Grecco Fonseca Mulato  \n",
    "- Victor Soares\n"
   ]
  },
  {
   "cell_type": "markdown",
   "id": "2cfb9807",
   "metadata": {},
   "source": [
    "# 1.    Data set - Seleção"
   ]
  },
  {
   "cell_type": "markdown",
   "id": "d5f73598",
   "metadata": {},
   "source": [
    "# 2. Data set - Explicação"
   ]
  },
  {
   "cell_type": "markdown",
   "id": "0f440c9b",
   "metadata": {},
   "source": [
    "Esse data set possui 25 colunas, 24 sendo potenciais features e 1 target (satisfação). Ela é uma variável categórica não ordenada e assume 2 valores: satisfeito ou neutro/insatisfeito. Ainda, a target está bem balanceada, estando divida em 43/57 %\n",
    "\n",
    "Em relação as features, elas variam entre qualitativas e quantitativas, sendo majoritariamente qualitativas e com poucas linhas com valores faltando."
   ]
  },
  {
   "cell_type": "markdown",
   "id": "219a623e",
   "metadata": {},
   "source": [
    "### Colunas"
   ]
  },
  {
   "cell_type": "code",
   "execution_count": null,
   "id": "2a4cf1a3",
   "metadata": {},
   "outputs": [],
   "source": [
    "import pandas as pd\n",
    "import numpy as np\n",
    "import seaborn as sns\n",
    "import matplotlib.pyplot as plt\n",
    "from mlp import mlp\n",
    "from sklearn.preprocessing import StandardScaler, MinMaxScaler\n",
    "from utils import plot_distributions\n",
    "\n",
    "# carregar os dois conjuntos\n",
    "df_train = pd.read_csv(\"train.csv\")\n",
    "df_test  = pd.read_csv(\"test.csv\")\n",
    "\n",
    "# marcar a origem para poder separar depois\n",
    "df_train[\"_source\"] = \"train\"\n",
    "df_test[\"_source\"]  = \"test\"\n",
    "\n",
    "# concatenar\n",
    "df = pd.concat([df_train, df_test], ignore_index=True)\n",
    "\n",
    "print(\"Shape combinado:\", df.shape)\n",
    "print(df[\"_source\"].value_counts())\n",
    "\n",
    "target = df['satisfaction']\n",
    "\n",
    "df.columns"
   ]
  },
  {
   "cell_type": "markdown",
   "id": "d814cb2f",
   "metadata": {},
   "source": [
    "### Target bem equilibrada"
   ]
  },
  {
   "cell_type": "code",
   "execution_count": null,
   "id": "a2dc1784",
   "metadata": {},
   "outputs": [],
   "source": [
    "plt.figure(figsize=(6,4))\n",
    "ax = sns.histplot(x=target, stat=\"percent\", discrete=True)\n",
    "\n",
    "plt.title(\"Distribuição da variável 'satisfaction' (%)\")\n",
    "plt.xlabel(\"Satisfação\")\n",
    "plt.ylabel(\"Porcentagem\")\n",
    "plt.show()"
   ]
  },
  {
   "cell_type": "markdown",
   "id": "34e091c8",
   "metadata": {},
   "source": [
    "### Preenchendo valores vazios"
   ]
  },
  {
   "cell_type": "code",
   "execution_count": null,
   "id": "42d1e727",
   "metadata": {},
   "outputs": [],
   "source": [
    "print(df.columns[df.isnull().any()]) #observa-se colunas com valores faltando!"
   ]
  },
  {
   "cell_type": "markdown",
   "id": "27ac7adb",
   "metadata": {},
   "source": [
    "### Arrival delay é numérica, utilizaremos a moda para preencher o valor, já que se arrival delay está como null, provavelmente foi 0 e esqueceram de colocar"
   ]
  },
  {
   "cell_type": "code",
   "execution_count": null,
   "id": "8881b565",
   "metadata": {},
   "outputs": [],
   "source": [
    "df['Arrival Delay in Minutes'] = df['Arrival Delay in Minutes'].fillna(df['Arrival Delay in Minutes'].mode()[0])\n",
    "print(df.columns[df.isnull().any()]) #roda mais uma vez para garantir"
   ]
  },
  {
   "cell_type": "markdown",
   "id": "5016b7ef",
   "metadata": {},
   "source": [
    "### Visualização features"
   ]
  },
  {
   "cell_type": "code",
   "execution_count": null,
   "id": "359012b8",
   "metadata": {},
   "outputs": [],
   "source": [
    "# definir colunas\n",
    "quantitative_cols = [\"Age\", \"Flight Distance\", \"Departure Delay in Minutes\", \"Arrival Delay in Minutes\"]\n",
    "\n",
    "ordinal_cols = [\n",
    "    \"Inflight wifi service\",\n",
    "    \"Departure/Arrival time convenient\",\n",
    "    \"Ease of Online booking\",\n",
    "    \"Gate location\",\n",
    "    \"Food and drink\",\n",
    "    \"Online boarding\",\n",
    "    \"Seat comfort\",\n",
    "    \"Inflight entertainment\",\n",
    "    \"On-board service\",\n",
    "    \"Leg room service\",\n",
    "    \"Baggage handling\",\n",
    "    \"Checkin service\",\n",
    "    \"Inflight service\",\n",
    "    \"Cleanliness\",\n",
    "]\n",
    "\n",
    "nominal_cols = [\"Gender\", \"Customer Type\", \"Type of Travel\", \"Class\"]\n",
    "target_col = \"satisfaction\"\n",
    "\n",
    "# -------- PLOT ORIGINAL --------\n",
    "plot_distributions(df, quantitative_cols, ordinal_cols, nominal_cols, title_suffix=\"(Original)\", force_ordinal_continuous=False)\n"
   ]
  },
  {
   "cell_type": "markdown",
   "id": "ae8afc0a",
   "metadata": {},
   "source": [
    "Pelas distribuições apresentadas, as variáveis categóricas estão relativamente balanceadas em alguns aspectos, mas apresentam diferenças relevantes em outros. O gênero está equilibrado entre homens e mulheres. Já o tipo de cliente é bastante desbalanceado, com predominância de clientes leais. No tipo de viagem, há mais viagens de negócios do que pessoais. Em relação à classe, as categorias Business e Eco têm proporções próximas, enquanto Eco Plus aparece em bem menor quantidade. A variável de satisfação também é relativamente balanceada, com uma leve maioria de clientes insatisfeitos ou neutros.\n",
    "\n",
    "Nas variáveis numéricas, observa-se diversidade: a idade segue uma distribuição concentrada entre 20 e 50 anos; a distância do voo é enviesada para valores menores; e os atrasos de partida e chegada apresentam forte concentração em atrasos curtos, com alguns outliers de longos atrasos. Já os serviços avaliativos (como wifi, comida, embarque, conforto de assento, limpeza, etc.) mostram distribuições variadas, mas tendem a concentrar respostas em notas intermediárias a altas, o que sugere certo viés positivo nas avaliações."
   ]
  },
  {
   "cell_type": "markdown",
   "id": "438d2f38",
   "metadata": {},
   "source": [
    "# 3. Limpeza de dados e normalização"
   ]
  },
  {
   "cell_type": "markdown",
   "id": "31686f51",
   "metadata": {},
   "source": [
    "Claro! Aqui vai uma explicação simples e direta sobre **por que normalizamos cada grupo de variáveis do jeito que fizemos**:\n",
    "\n",
    "---\n",
    "\n",
    "### 🔹 Z-Score (média 0, desvio 1)\n",
    "\n",
    "Usamos em **Age** e nas variáveis **ordinais (avaliações de 1 a 5)**.\n",
    "\n",
    "* **Por quê?**\n",
    "\n",
    "  * O Z-score centraliza os dados na média e escala pela variabilidade.\n",
    "  * Isso coloca todas essas variáveis em uma escala comparável (valores entre -2 e 2, geralmente).\n",
    "  * É útil quando os dados são aproximadamente simétricos ou queremos destacar desvios em relação à média.\n",
    "\n",
    "Exemplo: Idades diferentes são comparadas em termos de \"quantos desvios padrão acima ou abaixo da média\" estão.\n",
    "\n",
    "---\n",
    "\n",
    "### 🔹 Min-Max [-1, 1]\n",
    "\n",
    "Usamos em **Flight Distance** e nos **delays (após log)**.\n",
    "\n",
    "* **Por quê?**\n",
    "\n",
    "  * O Min-Max traz os valores para um intervalo fixo, aqui entre -1 e 1.\n",
    "  * Isso garante que nenhuma variável tenha escala muito maior que as outras.\n",
    "  * É útil quando a distribuição não é centrada na média, mas queremos que o modelo “veja” tudo na mesma faixa.\n",
    "\n",
    "---\n",
    "\n",
    "### 🔹 Log + Min-Max\n",
    "\n",
    "Usamos em **Departure Delay** e **Arrival Delay**.\n",
    "\n",
    "* **Por quê?**\n",
    "\n",
    "  * Atrasos têm distribuição muito enviesada: muitos voos com atraso 0 ou baixo, e poucos voos com atrasos enormes.\n",
    "  * O log “comprime” esses valores grandes, reduzindo o impacto dos extremos.\n",
    "  * Depois, aplicamos Min-Max para trazer o resultado para a faixa [-1,1], alinhando com as outras features.\n",
    "\n",
    "---\n",
    "\n",
    "### 🔹 One-Hot Encoding (nominais)\n",
    "\n",
    "Nas variáveis como **Gender, Customer Type, Type of Travel, Class**.\n",
    "\n",
    "* **Por quê?**\n",
    "\n",
    "  * São categorias sem ordem (ex.: “Male” ≠ maior que “Female”).\n",
    "  * O One-Hot cria colunas binárias (`0` ou `1`) para cada categoria, sem necessidade de normalização extra.\n",
    "\n",
    "---"
   ]
  },
  {
   "cell_type": "code",
   "execution_count": null,
   "id": "1044dfdf",
   "metadata": {},
   "outputs": [],
   "source": [
    "# -------- ONE-HOT + TARGET --------\n",
    "df_encoded = pd.get_dummies(df, columns=nominal_cols, dtype=int)\n",
    "df_encoded[target_col] = df_encoded[target_col].map({\n",
    "    \"satisfied\": 1,\n",
    "    \"neutral or dissatisfied\": 0\n",
    "})\n",
    "\n",
    "# -------- NORMALIZAÇÃO --------\n",
    "df_norm = df_encoded.copy()\n",
    "\n",
    "# Age + ordinais -> Z-score\n",
    "scaler_z = StandardScaler()\n",
    "df_norm[[\"Age\"] + ordinal_cols] = scaler_z.fit_transform(df_norm[[\"Age\"] + ordinal_cols])\n",
    "\n",
    "# Flight Distance -> MinMax [-1,1]\n",
    "scaler_fd = MinMaxScaler(feature_range=(-1,1))\n",
    "df_norm[\"Flight Distance\"] = scaler_fd.fit_transform(df_norm[[\"Flight Distance\"]])\n",
    "\n",
    "# Delays -> log + MinMax [-1,1]\n",
    "for col in [\"Departure Delay in Minutes\", \"Arrival Delay in Minutes\"]:\n",
    "    df_norm[col] = np.log1p(df_norm[col].clip(lower=0))\n",
    "    scaler_delay = MinMaxScaler(feature_range=(-1,1))\n",
    "    df_norm[col] = scaler_delay.fit_transform(df_norm[[col]])\n",
    "\n",
    "df_norm.head()\n",
    "# -------- PLOT NORMALIZADO --------\n",
    "plot_distributions(df_norm, quantitative_cols, ordinal_cols, nominal_cols, title_suffix=\"(Normalizado)\", force_ordinal_continuous=True)"
   ]
  },
  {
   "cell_type": "markdown",
   "id": "3fb5ab50",
   "metadata": {},
   "source": [
    "# VG -> DECIDIR SE VAI TER PCA OU NAO (PROVAVELMENTE NAO)"
   ]
  },
  {
   "cell_type": "markdown",
   "id": "2a3fe0c4",
   "metadata": {},
   "source": [
    "# 4. Implementação MLP"
   ]
  },
  {
   "cell_type": "code",
   "execution_count": null,
   "id": "d7daeb26",
   "metadata": {},
   "outputs": [],
   "source": [
    "df_norm.head()"
   ]
  },
  {
   "cell_type": "code",
   "execution_count": null,
   "id": "c37f74cc",
   "metadata": {},
   "outputs": [],
   "source": [
    "drop_cols = [\"Unnamed: 0\", \"id\", \"satisfaction\"]\n",
    "\n",
    "df_train = df_norm[df_norm[\"_source\"] == \"train\"].drop(columns=[\"_source\"], errors=\"ignore\")\n",
    "df_test  = df_norm[df_norm[\"_source\"] == \"test\"].drop(columns=[\"_source\"], errors=\"ignore\")\n",
    "\n",
    "X_train = df_train.drop(columns=drop_cols, errors=\"ignore\").apply(pd.to_numeric, errors=\"coerce\").fillna(0).values.astype(float)\n",
    "y_train = df_train[\"satisfaction\"].astype(int).values\n",
    "\n",
    "X_test = df_test.drop(columns=drop_cols, errors=\"ignore\").apply(pd.to_numeric, errors=\"coerce\").fillna(0).values.astype(float)\n",
    "y_test = df_test[\"satisfaction\"].astype(int).values if \"satisfaction\" in df_test.columns else None\n",
    "\n",
    "model = mlp(\n",
    "    n_features=X_train.shape[1],\n",
    "    n_hidden_layers=2,\n",
    "    n_neurons_per_layer=[32, 16, 1],\n",
    "    activation=\"relu\",\n",
    "    loss=\"mse\",\n",
    "    optimizer=\"gd\",\n",
    "    epochs=100,\n",
    "    eta=0.01\n",
    ")\n",
    "\n",
    "model.train(X_train, y_train)\n"
   ]
  },
  {
   "cell_type": "markdown",
   "id": "ecd9de36",
   "metadata": {},
   "source": [
    "# 5. Treinando Modelo"
   ]
  },
  {
   "cell_type": "code",
   "execution_count": null,
   "id": "5aa692c7",
   "metadata": {},
   "outputs": [],
   "source": [
    "preds_test = model.test(X_test)\n",
    "\n",
    "model.evaluate(X_test, y_test, plot_confusion=True, plot_roc=True, preds=preds_test)"
   ]
  },
  {
   "cell_type": "markdown",
   "id": "198003df",
   "metadata": {},
   "source": [
    "# VG -> EXPLICAR O RESTO, TOPICO 6 PRA FREMTE, POSSIVELMENTE MUDAR DE LUGAR OS CODIGOS, ARRUMAR A CASA"
   ]
  },
  {
   "cell_type": "markdown",
   "id": "e8ca54c4",
   "metadata": {},
   "source": [
    "# 6. Estratégia de treino e teste"
   ]
  },
  {
   "cell_type": "markdown",
   "id": "fe9431fe",
   "metadata": {},
   "source": [
    "# 7. Curva de erro e visualização"
   ]
  },
  {
   "cell_type": "markdown",
   "id": "e407322d",
   "metadata": {},
   "source": [
    "# 8. Avaliação do modelo"
   ]
  },
  {
   "cell_type": "markdown",
   "id": "7a1f8f2b",
   "metadata": {},
   "source": []
  }
 ],
 "metadata": {
  "kernelspec": {
   "display_name": ".venv_deep",
   "language": "python",
   "name": "python3"
  },
  "language_info": {
   "codemirror_mode": {
    "name": "ipython",
    "version": 3
   },
   "file_extension": ".py",
   "mimetype": "text/x-python",
   "name": "python",
   "nbconvert_exporter": "python",
   "pygments_lexer": "ipython3",
   "version": "3.12.3"
  }
 },
 "nbformat": 4,
 "nbformat_minor": 5
}
